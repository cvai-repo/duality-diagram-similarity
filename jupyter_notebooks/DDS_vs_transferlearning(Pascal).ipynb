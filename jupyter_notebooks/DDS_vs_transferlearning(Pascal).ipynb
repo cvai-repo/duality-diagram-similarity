{
 "cells": [
  {
   "cell_type": "code",
   "execution_count": 13,
   "metadata": {},
   "outputs": [
    {
     "name": "stdout",
     "output_type": "stream",
     "text": [
      "[ 0 17 18  1  3  4  5  6  8  9 10 11 12 13 14 16 15]\n"
     ]
    }
   ],
   "source": [
    "import numpy as np\n",
    "import os\n",
    "import pickle\n",
    "\n",
    "task_list = [ 'autoencoder','class_1000', 'class_places','curvature', 'edge2d', 'edge3d',\\\n",
    "                         'keypoint2d', 'keypoint3d','reshade', 'rgb2depth', 'rgb2mist', 'rgb2sfnorm','room_layout' , \\\n",
    "                         'segment25d', 'segment2d', 'segmentsemantic','vanishing_point']\n",
    "list_of_tasks = 'autoencoder curvature denoise edge2d edge3d \\\n",
    "keypoint2d keypoint3d colorization \\\n",
    "reshade rgb2depth rgb2mist rgb2sfnorm \\\n",
    "room_layout segment25d segment2d vanishing_point \\\n",
    "segmentsemantic class_1000 class_places inpainting_whole pascal_voc_segmentation'\n",
    "task_list_new = list_of_tasks.split(' ')\n",
    "indices = []\n",
    "for task in task_list:\n",
    "    indices.append(task_list_new.index(task))\n",
    "indices = np.array(indices)\n",
    "print(indices)"
   ]
  },
  {
   "cell_type": "code",
   "execution_count": 14,
   "metadata": {},
   "outputs": [],
   "source": [
    "from scipy.stats import spearmanr,pearsonr\n",
    "path = './../results/DDScomparison_pascal/pascal_5000/'\n",
    "kernel_affinities =  np.load(path+'kernels.npy',allow_pickle=True).item()\n",
    "rdm_affinities = np.load(path+'rdms.npy',allow_pickle=True).item()\n",
    "\n",
    "corr_value = {}\n",
    "performance = [0.590164306133055,0.649290395668602,0.652942936208706,0.647184483742267,0.600769184861427,\\\n",
    "                           0.649696268320798, 0.5994201374950169,0.647529319500711,\\\n",
    "                           0.6300454561362,0.6487250234464327,0.643817731132111,0.647786678981121,0.625850319733945,\\\n",
    "                           0.656534260134841,0.629964850307006,0.648764305659868, 0.589181267604318];\n",
    "\n",
    "for kernel,kernel_affinity in kernel_affinities.items():\n",
    "    corr_value[kernel] = {}\n",
    "    for f_ablation,f_ablation_affinity in kernel_affinity.items():\n",
    "        corr_value_matrix = np.zeros(f_ablation_affinity.shape[0])\n",
    "        for iter in range(f_ablation_affinity.shape[0]):\n",
    "            temp,_ = spearmanr(performance, f_ablation_affinity[iter,indices])\n",
    "            corr_value_matrix[iter] = temp\n",
    "        corr_value[kernel][f_ablation] = corr_value_matrix\n",
    "            \n",
    "\n",
    "for rdm,rdm_affinity in rdm_affinities.items():\n",
    "    corr_value[rdm] = {}\n",
    "    for f_ablation,f_ablation_affinity in rdm_affinity.items():\n",
    "        corr_value_matrix = np.zeros(f_ablation_affinity.shape[0])\n",
    "        for iter in range(f_ablation_affinity.shape[0]):\n",
    "            temp,_ = spearmanr(performance, f_ablation_affinity[iter,indices])\n",
    "            corr_value_matrix[iter] = temp\n",
    "        corr_value[rdm][f_ablation] = corr_value_matrix"
   ]
  },
  {
   "cell_type": "code",
   "execution_count": 15,
   "metadata": {
    "scrolled": true
   },
   "outputs": [
    {
     "name": "stdout",
     "output_type": "stream",
     "text": [
      "0.7916666666666667 ['linear', 'znorm']\n"
     ]
    }
   ],
   "source": [
    "max_corr = 0\n",
    "mean_corr = {}\n",
    "for dist,corr_dist in corr_value.items():\n",
    "    mean_corr[dist] = {}\n",
    "    for f_ablation,corr_f_ablation in corr_dist.items():\n",
    "        mean_corr[dist][f_ablation] = round(np.mean(corr_f_ablation),3)\n",
    "        if np.mean(corr_f_ablation) > max_corr:\n",
    "            max_corr = np.mean(corr_f_ablation)\n",
    "            max_combo = [dist,f_ablation]\n",
    "\n",
    "print(max_corr,max_combo)\n"
   ]
  },
  {
   "cell_type": "code",
   "execution_count": 16,
   "metadata": {},
   "outputs": [
    {
     "name": "stdout",
     "output_type": "stream",
     "text": [
      "         rbf    lap  linear  pearson  euclidean  cosine\n",
      "znorm  0.752  0.789   0.792    0.743      0.787   0.751\n"
     ]
    }
   ],
   "source": [
    "import pandas as pd\n",
    "dfObj = pd.DataFrame(mean_corr)\n",
    "print(dfObj)"
   ]
  },
  {
   "cell_type": "code",
   "execution_count": null,
   "metadata": {},
   "outputs": [],
   "source": []
  }
 ],
 "metadata": {
  "kernelspec": {
   "display_name": "dnn2brain_fn",
   "language": "python",
   "name": "dnn2brain_fn"
  },
  "language_info": {
   "codemirror_mode": {
    "name": "ipython",
    "version": 3
   },
   "file_extension": ".py",
   "mimetype": "text/x-python",
   "name": "python",
   "nbconvert_exporter": "python",
   "pygments_lexer": "ipython3",
   "version": "3.6.10"
  }
 },
 "nbformat": 4,
 "nbformat_minor": 2
}
