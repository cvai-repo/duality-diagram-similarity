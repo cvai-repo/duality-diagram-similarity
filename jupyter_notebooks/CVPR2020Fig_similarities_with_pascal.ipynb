{
 "cells": [
  {
   "cell_type": "code",
   "execution_count": 1,
   "metadata": {},
   "outputs": [
    {
     "name": "stdout",
     "output_type": "stream",
     "text": [
      "     correlation distances\n",
      "0       0.722826     rsa_p\n",
      "1       0.759164     rsa_p\n",
      "2       0.779503     rsa_p\n",
      "3       0.734666     rsa_p\n",
      "4       0.785949     rsa_p\n",
      "5       0.801285     rsa_p\n",
      "6       0.759461     rsa_p\n",
      "7       0.784688     rsa_p\n",
      "8       0.723715     rsa_p\n",
      "9       0.774702     rsa_p\n",
      "10      0.704942     rsa_p\n",
      "11      0.743560     rsa_p\n",
      "12      0.767493     rsa_p\n",
      "13      0.788902     rsa_p\n",
      "14      0.764163     rsa_p\n",
      "15      0.727342     rsa_p\n",
      "16      0.738183     rsa_p\n",
      "17      0.726380     rsa_p\n",
      "18      0.745394     rsa_p\n",
      "19      0.785393     rsa_p\n",
      "20      0.713252     rsa_p\n",
      "21      0.734956     rsa_p\n",
      "22      0.760881     rsa_p\n",
      "23      0.779504     rsa_p\n",
      "24      0.769527     rsa_p\n",
      "25      0.773046     rsa_p\n",
      "26      0.790482     rsa_p\n",
      "27      0.763149     rsa_p\n",
      "28      0.816366     rsa_p\n",
      "29      0.745994     rsa_p\n",
      "..           ...       ...\n",
      "870     0.642699       cka\n",
      "871     0.647802       cka\n",
      "872     0.659908       cka\n",
      "873     0.695640       cka\n",
      "874     0.629780       cka\n",
      "875     0.718915       cka\n",
      "876     0.768863       cka\n",
      "877     0.670355       cka\n",
      "878     0.674117       cka\n",
      "879     0.716767       cka\n",
      "880     0.623870       cka\n",
      "881     0.724132       cka\n",
      "882     0.688596       cka\n",
      "883     0.567292       cka\n",
      "884     0.677310       cka\n",
      "885     0.737485       cka\n",
      "886     0.664356       cka\n",
      "887     0.678117       cka\n",
      "888     0.751033       cka\n",
      "889     0.618500       cka\n",
      "890     0.644517       cka\n",
      "891     0.679720       cka\n",
      "892     0.557608       cka\n",
      "893     0.651870       cka\n",
      "894     0.714180       cka\n",
      "895     0.637185       cka\n",
      "896     0.686539       cka\n",
      "897     0.695202       cka\n",
      "898     0.567241       cka\n",
      "899     0.646556       cka\n",
      "\n",
      "[900 rows x 2 columns]\n"
     ]
    }
   ],
   "source": [
    "import numpy as np\n",
    "import os\n",
    "import glob\n",
    "import json\n",
    "import pickle\n",
    "\n",
    "dataset = 'taskonomy_5000'\n",
    "root_dir = '/home/kshitid20/Documents/Gemma Roig lab Dropbox/Kshitij/Multitask/CVPR_transferlearning/CVPR2020_results/'\n",
    "data_path = os.path.join(root_dir,dataset,'boxplot_data.pkl')\n",
    "\n",
    "\n",
    "\n",
    "with open(data_path, 'rb') as f:\n",
    "    data = pickle.load(f)\n",
    "print(data)"
   ]
  },
  {
   "cell_type": "code",
   "execution_count": 2,
   "metadata": {},
   "outputs": [
    {
     "data": {
      "text/plain": [
       "(array([0, 1, 2, 3, 4, 5, 6, 7, 8]), <a list of 9 Text xticklabel objects>)"
      ]
     },
     "execution_count": 2,
     "metadata": {},
     "output_type": "execute_result"
    }
   ],
   "source": [
    "import pandas as pd\n",
    "import matplotlib.pyplot as plt\n",
    "import seaborn as sns\n",
    "plt.rcParams.update({'font.size': 14})\n",
    "\n",
    "df = pd.DataFrame (data, columns = ['correlation', 'distances'])\n",
    "#print(df)\n",
    "ax = sns.violinplot( x=df[\"distances\"], y=df[\"correlation\"])\n",
    "plt.ylim([-0.6,1.0])\n",
    "plt.xticks(rotation=60)"
   ]
  },
  {
   "cell_type": "code",
   "execution_count": 3,
   "metadata": {},
   "outputs": [
    {
     "name": "stdout",
     "output_type": "stream",
     "text": [
      "rsa_p 0.7618572862288505 0.02745867466886613\n",
      "rsa_e 0.3860537928505517 0.13989758469917452\n",
      "rsa_c 0.765143962505926 0.02880171643265063\n",
      "rsa_p_cka 0.80364950477822 0.02533900092846531\n",
      "rsa_e_cka 0.7317148391707938 0.043574360808432716\n",
      "rsa_m_cka 0.8064322450339415 0.024625970862812385\n",
      "cka 0.6598397174777108 0.047668340615262005\n",
      "lap_cka 0.8325863993600627 0.02468346122079211\n",
      "rbf_cka 0.858149999676935 0.026024737961873975\n"
     ]
    }
   ],
   "source": [
    "measures = ['rsa_p','rsa_e','rsa_c','rsa_p_cka','rsa_e_cka','rsa_m_cka','cka','lap_cka','rbf_cka']\n",
    "for measure in measures:\n",
    "    print(measure,\\\n",
    "          df['correlation'][df['distances']==measure].mean(),\\\n",
    "          np.std(df['correlation'][df['distances']==measure]))"
   ]
  },
  {
   "cell_type": "code",
   "execution_count": null,
   "metadata": {},
   "outputs": [],
   "source": []
  }
 ],
 "metadata": {
  "kernelspec": {
   "display_name": "virtual-home",
   "language": "python",
   "name": "virtual-home"
  },
  "language_info": {
   "codemirror_mode": {
    "name": "ipython",
    "version": 3
   },
   "file_extension": ".py",
   "mimetype": "text/x-python",
   "name": "python",
   "nbconvert_exporter": "python",
   "pygments_lexer": "ipython3",
   "version": "3.6.8"
  }
 },
 "nbformat": 4,
 "nbformat_minor": 2
}
